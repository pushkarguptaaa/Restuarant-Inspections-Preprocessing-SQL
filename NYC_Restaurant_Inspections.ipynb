{
 "cells": [
  {
   "cell_type": "markdown",
   "metadata": {},
   "source": [
    "# Capstone: NYC Restaurant Inspections\n",
    "\n",
    "Welcome to this course's capstone! This is an assignment where you will get to put together everything you learned in this course. \n",
    "\n",
    "Carefully read each Markdown (text) cell, which includes instructions and hints. Start by reading the background behind your upcoming tasks.\n",
    "\n",
    "When you are done, submit your solution by saving it, then clicking on the blue submit button at the top of the page.\n",
    "\n",
    "## Background:\n",
    "You\"re a data analyst at a consulting firm that helps restaurant owners optimize their business performance. You've been tasked with analyzing the relationship between restaurant characteristics (like cuisine type, location, price level) and their health inspection performance to provide actionable insights to your clients.\n",
    "\n",
    "## In order for your submission to be graded correctly, you **MUST**:\n",
    "* **Use the provided variable names**, otherwise the autograder will not be able to locate the variable for grading. \n",
    "\n",
    "* **Replace any instances of `None` with your own code.** \n",
    "\n",
    "* **Only modify the cells that start with the comment `# GRADED CELL`**.  \n",
    "\n",
    "* **Use the provided cells for your solution.** You can add new cells to experiment, but these will be omitted when grading. \n",
    "\n",
    "To submit your solution, save it, then click on the blue submit button at the top of the page.\n",
    "\n",
    "<div style=\"background-color: #FAD888; padding: 10px; border-radius: 3px; box-shadow: 0 2px 4px rgba(0, 0, 0, 0.1); width:95%\n",
    "\">\n",
    "<strong>Important note</strong>: Code blocks with None will not run properly. If you run them before completing the exercise, you will likely get an error. \n",
    "\n",
    "</div>"
   ]
  },
  {
   "cell_type": "markdown",
   "metadata": {},
   "source": [
    "## Table of Contents\n",
    "- [Step 1: Loading the Modules](#step-1)\n",
    "- [Step 2: Requesting the Data](#step-2)\n",
    "    - [Getting Inspection Data](#getting-inspection-data)\n",
    "        - [Exercise 1: Scraping Health Inspection Data](#ex1)\n",
    "    - [Getting Restaurant Ratings and Information](#getting-restaurant-ratings-and-information)\n",
    "        - [Exercise 2: Restaurant Ratings Collection](#ex2)\n",
    "- [Step 3: Cleaning the Data](#step-3)\n",
    "    - [Cleaning Inspections Data](#cleaning-inspections-data)\n",
    "        - [Exercise 3: Convert Dates to Datetime](#ex3)\n",
    "    - [Cleaning the Ratings Data](#cleaning-the-ratings-data)\n",
    "        - [Exercise 4: Data Cleaning and Standardization](#ex4)\n",
    "        - [Exercise 5: Convert to Correct Data Types](#ex5)\n",
    "    - [Data Quality Analysis](#data-quality-analysis)\n",
    "- [Step 5: Converting your Tables to SQL Databases](#step-5)\n",
    "- [Step 6: Processing your Data with SQL](#step-4)\n",
    "    - [Creating the Connection](#creating-the-connection)\n",
    "    - [Getting Insights](#getting-insights)\n",
    "        - [Exercise 6: Scores by Cuisine Types](#ex6)\n",
    "        - [Exercise 7: Price Level Impact](#ex7)\n",
    "        - [Exercise 8: Success Rates by Inspection Type](#ex8)"
   ]
  },
  {
   "cell_type": "markdown",
   "metadata": {},
   "source": [
    "<a id=\"step-1\"></a>\n",
    "\n",
    "## Step 1: Loading the Modules\n",
    "\n",
    "Begin by loading all the modules you will need for the lab.\n",
    "\n",
    "\n",
    "<div style=\"background-color: #C6E2FF; padding: 10px; border-radius: 3px; box-shadow: 0 2px 4px rgba(0, 0, 0, 0.1); width:95%\n",
    "\">\n",
    "    <strong>▶▶▶ Directions</strong> \n",
    "        <ol>\n",
    "            <li>Run the cell below to import the needed modules.</li>\n",
    "        </ol>\n",
    "</div>"
   ]
  },
  {
   "cell_type": "code",
   "execution_count": 1,
   "metadata": {
    "deletable": false,
    "editable": false,
    "tags": [
     "graded"
    ]
   },
   "outputs": [],
   "source": [
    "# 🔒This cell is locked. You will not be able to edit it.\n",
    "\n",
    "import pandas as pd\n",
    "import matplotlib.pyplot as plt\n",
    "import seaborn as sns\n",
    "\n",
    "import sqlite3\n",
    "import requests\n",
    "import os\n",
    "from dotenv import load_dotenv"
   ]
  },
  {
   "cell_type": "markdown",
   "metadata": {},
   "source": [
    "<a id=\"step-2\"></a>\n",
    "\n",
    "## Step 2: Requesting the Data\n",
    "\n",
    "<a id=\"getting-inspection-data\"></a>\n",
    "\n",
    "### Getting Inspection Data\n",
    "\n",
    "If you want to analyze health inspection scores and health violations in restaurants, you first need to get data to analyze.\n",
    "\n",
    "<a id=\"ex3\"></a>\n",
    "\n",
    "#### Exercise 3: Scraping Health Inspection Data\n",
    "\n",
    "You decide to get the Health Inspection results from the last 6 months of 2024. \n",
    "\n",
    "<div style=\"background-color: #C6E2FF; padding: 10px; border-radius: 3px; box-shadow: 0 2px 4px rgba(0, 0, 0, 0.1); width:95%\">\n",
    "\n",
    "**▶▶▶ Directions**\n",
    "\n",
    "1. Read the table provided in the [URL](https://dlai-lc-dag.s3.us-east-2.amazonaws.com/scraping_webpage_capstone/restaurant_inspections.html) to get a pandas DataFrame.\n",
    "\n",
    "</div>"
   ]
  },
  {
   "cell_type": "markdown",
   "metadata": {},
   "source": [
    "<details>\n",
    "<summary style=\"background-color: #FDBFC7; padding: 10px; border-radius: 3px; box-shadow: 0 2px 4px rgba(0, 0, 0, 0.1); width: 95%; text-align: left; cursor: pointer; font-weight: bold;\">\n",
    "If you are stuck, click here for extra hints!</summary> \n",
    "\n",
    "<ul style=\"background-color: #FFF8F8; padding: 10px; border-radius: 3px; margin-top: 5px; width: 95%; box-shadow: inset 0 2px 4px rgba(0, 0, 0, 0.1);\">\n",
    "   \n",
    "- Since the data is in table format, you can use the `pd.read_html()` function to retrieve the data\n",
    "</ul>\n",
    "\n",
    "</details>"
   ]
  },
  {
   "cell_type": "code",
   "execution_count": 2,
   "metadata": {
    "deletable": false,
    "tags": [
     "graded"
    ]
   },
   "outputs": [],
   "source": [
    "# GRADED CELL: Exercise 1\n",
    "\n",
    "url = \"https://dlai-lc-dag.s3.us-east-2.amazonaws.com/restaurant_inspections.html\"\n",
    "\n",
    "### START CODE HERE ###\n",
    "\n",
    "tables = pd.read_html(url)\n",
    "\n",
    "### END CODE HERE ###"
   ]
  },
  {
   "cell_type": "code",
   "execution_count": 3,
   "metadata": {
    "deletable": false,
    "editable": false
   },
   "outputs": [
    {
     "name": "stdout",
     "output_type": "stream",
     "text": [
      "Downloaded tables successfully. Found a total of 1 tables.\n"
     ]
    }
   ],
   "source": [
    "# 🔒This cell is locked. You will not be able to edit it.\n",
    "\n",
    "# print the results \n",
    "if len(tables) > 0:\n",
    "    print(\"Downloaded tables successfully. Found a total of\", len(tables), \"tables.\")\n",
    "else:\n",
    "    print(\"Could not find any tables\")"
   ]
  },
  {
   "cell_type": "markdown",
   "metadata": {},
   "source": [
    "<details>\n",
    "<summary style=\"background-color: #c6e2ff6c; padding: 10px; border-radius: 3px; box-shadow: 0 2px 4px rgba(0, 0, 0, 0.01); width: 95%; text-align: left; cursor: pointer; font-weight: bold;\">\n",
    "Expected output:</summary> \n",
    "<br>\n",
    "\n",
    "<small>\n",
    "\n",
    "```mkdn\n",
    "Downloaded tables successfully. Found a total of 1 tables.\n",
    "```\n",
    "</small>\n",
    "\n",
    "</details>"
   ]
  },
  {
   "cell_type": "markdown",
   "metadata": {},
   "source": [
    "If you were able to extract one table successfully, go ahead and save it in a DataFrame.\n",
    "\n",
    "<div style=\"background-color: #C6E2FF; padding: 10px; border-radius: 3px; box-shadow: 0 2px 4px rgba(0, 0, 0, 0.1); width:95%\">\n",
    "\n",
    "**▶▶▶ Directions**\n",
    "1. Run the cell below to save the one table recovered in a DataFrame named `inspections`.\n",
    "\n",
    "</div>"
   ]
  },
  {
   "cell_type": "code",
   "execution_count": 4,
   "metadata": {
    "deletable": false,
    "editable": false,
    "tags": [
     "graded"
    ]
   },
   "outputs": [
    {
     "data": {
      "text/html": [
       "<div>\n",
       "<style scoped>\n",
       "    .dataframe tbody tr th:only-of-type {\n",
       "        vertical-align: middle;\n",
       "    }\n",
       "\n",
       "    .dataframe tbody tr th {\n",
       "        vertical-align: top;\n",
       "    }\n",
       "\n",
       "    .dataframe thead th {\n",
       "        text-align: right;\n",
       "    }\n",
       "</style>\n",
       "<table border=\"1\" class=\"dataframe\">\n",
       "  <thead>\n",
       "    <tr style=\"text-align: right;\">\n",
       "      <th></th>\n",
       "      <th>CAMIS</th>\n",
       "      <th>DBA</th>\n",
       "      <th>BORO</th>\n",
       "      <th>BUILDING</th>\n",
       "      <th>STREET</th>\n",
       "      <th>ZIPCODE</th>\n",
       "      <th>PHONE</th>\n",
       "      <th>CUISINE DESCRIPTION</th>\n",
       "      <th>INSPECTION DATE</th>\n",
       "      <th>ACTION</th>\n",
       "      <th>...</th>\n",
       "      <th>RECORD DATE</th>\n",
       "      <th>INSPECTION TYPE</th>\n",
       "      <th>Latitude</th>\n",
       "      <th>Longitude</th>\n",
       "      <th>Community Board</th>\n",
       "      <th>Council District</th>\n",
       "      <th>Census Tract</th>\n",
       "      <th>BIN</th>\n",
       "      <th>BBL</th>\n",
       "      <th>NTA</th>\n",
       "    </tr>\n",
       "  </thead>\n",
       "  <tbody>\n",
       "    <tr>\n",
       "      <th>0</th>\n",
       "      <td>50060054</td>\n",
       "      <td>SBARRO</td>\n",
       "      <td>Brooklyn</td>\n",
       "      <td>2509</td>\n",
       "      <td>FLATBUSH AVENUE</td>\n",
       "      <td>11234.0</td>\n",
       "      <td>7182583869</td>\n",
       "      <td>Pizza</td>\n",
       "      <td>07/01/2024</td>\n",
       "      <td>Violations were cited in the following area(s).</td>\n",
       "      <td>...</td>\n",
       "      <td>02/20/2025</td>\n",
       "      <td>Cycle Inspection / Initial Inspection</td>\n",
       "      <td>40.609174</td>\n",
       "      <td>-73.921785</td>\n",
       "      <td>318.0</td>\n",
       "      <td>46.0</td>\n",
       "      <td>69800.0</td>\n",
       "      <td>3326830.0</td>\n",
       "      <td>3.084700e+09</td>\n",
       "      <td>BK45</td>\n",
       "    </tr>\n",
       "    <tr>\n",
       "      <th>1</th>\n",
       "      <td>41305916</td>\n",
       "      <td>DUNKIN</td>\n",
       "      <td>Queens</td>\n",
       "      <td>13504</td>\n",
       "      <td>JAMAICA AVENUE</td>\n",
       "      <td>11418.0</td>\n",
       "      <td>7182629567</td>\n",
       "      <td>Donuts</td>\n",
       "      <td>07/01/2024</td>\n",
       "      <td>Violations were cited in the following area(s).</td>\n",
       "      <td>...</td>\n",
       "      <td>02/20/2025</td>\n",
       "      <td>Cycle Inspection / Initial Inspection</td>\n",
       "      <td>40.702394</td>\n",
       "      <td>-73.817640</td>\n",
       "      <td>409.0</td>\n",
       "      <td>29.0</td>\n",
       "      <td>14202.0</td>\n",
       "      <td>4442218.0</td>\n",
       "      <td>4.093420e+09</td>\n",
       "      <td>QN54</td>\n",
       "    </tr>\n",
       "  </tbody>\n",
       "</table>\n",
       "<p>2 rows × 26 columns</p>\n",
       "</div>"
      ],
      "text/plain": [
       "      CAMIS     DBA      BORO BUILDING           STREET  ZIPCODE       PHONE  \\\n",
       "0  50060054  SBARRO  Brooklyn     2509  FLATBUSH AVENUE  11234.0  7182583869   \n",
       "1  41305916  DUNKIN    Queens    13504   JAMAICA AVENUE  11418.0  7182629567   \n",
       "\n",
       "  CUISINE DESCRIPTION INSPECTION DATE  \\\n",
       "0               Pizza      07/01/2024   \n",
       "1              Donuts      07/01/2024   \n",
       "\n",
       "                                            ACTION  ... RECORD DATE  \\\n",
       "0  Violations were cited in the following area(s).  ...  02/20/2025   \n",
       "1  Violations were cited in the following area(s).  ...  02/20/2025   \n",
       "\n",
       "                         INSPECTION TYPE   Latitude  Longitude  \\\n",
       "0  Cycle Inspection / Initial Inspection  40.609174 -73.921785   \n",
       "1  Cycle Inspection / Initial Inspection  40.702394 -73.817640   \n",
       "\n",
       "  Community Board Council District Census Tract        BIN           BBL   NTA  \n",
       "0           318.0             46.0      69800.0  3326830.0  3.084700e+09  BK45  \n",
       "1           409.0             29.0      14202.0  4442218.0  4.093420e+09  QN54  \n",
       "\n",
       "[2 rows x 26 columns]"
      ]
     },
     "execution_count": 4,
     "metadata": {},
     "output_type": "execute_result"
    }
   ],
   "source": [
    "# 🔒This cell is locked. You will not be able to edit it.\n",
    "\n",
    "# get the table with the inspections\n",
    "inspections = tables[0]\n",
    "\n",
    "# inspect the first few rows\n",
    "inspections.head(2)"
   ]
  },
  {
   "cell_type": "markdown",
   "metadata": {},
   "source": [
    "<details>\n",
    "<summary style=\"background-color: #c6e2ff6c; padding: 10px; border-radius: 3px; box-shadow: 0 2px 4px rgba(0, 0, 0, 0.01); width: 95%; text-align: left; cursor: pointer; font-weight: bold;\">\n",
    "Expected output:</summary> \n",
    "\n",
    "<br>\n",
    "\n",
    "<img src=\"imgs/ex1.png\" width=\"1000\">\n",
    "</details>"
   ]
  },
  {
   "cell_type": "markdown",
   "metadata": {},
   "source": [
    "To understand what each column represents, you can take a look at [🔗this file](https://docs.google.com/spreadsheets/d/1UhME6JA90ckR5aHhydtFWjqa_1lRv9nw/edit?usp=sharing&ouid=112256844136506503376&rtpof=true&sd=true). For more general information about how the inspection system works and what each grade means, you can consult [🔗this other document](https://docs.google.com/document/d/1_lZYHizHeUxHZLsyYigs6bCwfVWiBlZ2/edit?usp=sharing&ouid=112256844136506503376&rtpof=true&sd=true). Both were downloaded from the NYC Open Data portal."
   ]
  },
  {
   "cell_type": "markdown",
   "metadata": {},
   "source": [
    "<a id=\"web-scraping-ratings-and-restaurant-information\"></a>\n",
    "\n",
    "### Getting Restaurant Ratings and Information\n",
    "\n",
    "Next, since you're focusing on user ratings, you'll need to compile a detailed dataset with relevant restaurant information.\n",
    "\n",
    "<a id=\"ex2\"></a>\n",
    "\n",
    "#### Exercise 2: Restaurant Ratings Collection\n",
    "\n",
    "In order to gather information about different restaurants, you want to automatically gather information like ratings and services provided from online sources.\n",
    "\n",
    "<div style=\"background-color: #C6E2FF; padding: 10px; border-radius: 3px; box-shadow: 0 2px 4px rgba(0, 0, 0, 0.1); width:95%\">\n",
    "\n",
    "**▶▶▶ Directions**\n",
    "1. Load the environment variables.\n",
    "2. Get the API key from the environment variable `\"RESTAURANTS_API_KEY\"` and save it into a variable.\n",
    "3. Define the parameters for the request. You need to set up the \"key\" with the API key, and \"limit\" with the value 1000.\n",
    "4. You will be using pagination to get the first 35,000 records. In each iteration:\n",
    "    - Adjust the \"offset\" parameter, so you get new data each iteration.\n",
    "    - Make the request.\n",
    "\n",
    "</div>"
   ]
  },
  {
   "cell_type": "markdown",
   "metadata": {},
   "source": [
    "<details>\n",
    "<summary style=\"background-color: #FDBFC7; padding: 10px; border-radius: 3px; box-shadow: 0 2px 4px rgba(0, 0, 0, 0.1); width: 95%; text-align: left; cursor: pointer; font-weight: bold;\">\n",
    "If you are stuck, click here for extra hints!</summary> \n",
    "\n",
    "<ul style=\"background-color: #FFF8F8; padding: 10px; border-radius: 3px; margin-top: 5px; width: 95%; box-shadow: inset 0 2px 4px rgba(0, 0, 0, 0.1);\">\n",
    "   \n",
    "- You can get the API key with the os.getenv() function. The argument for this function is the environment variable, in this case \"RESTAURANTS_API_KEY\".\n",
    "- The parameters are a dictionary, in this case, you need to pass the \"key\", and \"limit\" parameters.\n",
    "- In each iteration you will need to update the \"offset\" parameter. Remember you get 1000 records per iteration, so, for example, in the second iteration (`i=1`) you will need to skip 1000 records. In the third iteration (`i=2`) you will need to skip 2000=2*1000 iterations, and so on. \n",
    "- The request can be made using the requests.get() function. You need to provide as arguments the URL and the parameters dictionary.\n",
    "\n",
    "</ul>\n",
    "\n",
    "</details>\n"
   ]
  },
  {
   "cell_type": "code",
   "execution_count": 5,
   "metadata": {
    "deletable": false,
    "tags": [
     "graded"
    ]
   },
   "outputs": [
    {
     "name": "stdout",
     "output_type": "stream",
     "text": [
      "Ratings data retrieved successfully\n"
     ]
    }
   ],
   "source": [
    "# GRADED CELL: Exercise 2\n",
    "\n",
    "url_info = \"https://2eraiuh.dlai.link/api/business_info\"\n",
    "\n",
    "errors_ratings = []\n",
    "\n",
    "# load the environment variables\n",
    "load_dotenv() \n",
    "\n",
    "### START CODE HERE ###\n",
    "\n",
    "# load API key from environment variable\n",
    "API_KEY = os.getenv(\"RESTAURANTS_API_KEY\")\n",
    "\n",
    "# define the parameters for the API request\n",
    "params = { \n",
    "    \"api_key\": API_KEY,\n",
    "    \"limit\": 1000,\n",
    "    \"offset\": 0 \n",
    "} \n",
    "\n",
    "### END CODE HERE ###\n",
    "\n",
    "# create an empty list to store the dataframes\n",
    "ratings_dataframes = [] \n",
    "\n",
    "# Iterate to get the first 35000 records of each source \n",
    "for i in range(35):\n",
    "\n",
    "    ### START CODE HERE ###\n",
    "\n",
    "    # update the offset parameter\n",
    "    params[\"offset\"] = i * 1000\n",
    "\n",
    "    # request the data using requests\n",
    "    response = requests.get(url_info, params)\n",
    "\n",
    "    ### END CODE HERE ###\n",
    "    \n",
    "    if response.status_code == 200:\n",
    "        # extract the JSON data, and get \"data key\"\n",
    "        response_data = response.json()[\"data\"]\n",
    "        # convert to a DataFrame\n",
    "        partial_df = pd.DataFrame(response_data)\n",
    "        # append the partial dataframe to the list\n",
    "        ratings_dataframes.append(partial_df)\n",
    "    \n",
    "    else:\n",
    "        print(\"Failed to retrieve the general information data\")\n",
    "        errors_ratings.append(i)\n",
    "        if \"error\" in response.json().keys():\n",
    "            print(response.json()[\"error\"])\n",
    "\n",
    "\n",
    "# concatenate the dataframes\n",
    "ratings_df = pd.concat(ratings_dataframes, ignore_index=True)\n",
    "\n",
    "if len(errors_ratings) == 0:\n",
    "    print(\"Ratings data retrieved successfully\")"
   ]
  },
  {
   "cell_type": "markdown",
   "metadata": {},
   "source": [
    "<details>\n",
    "<summary style=\"background-color: #c6e2ff6c; padding: 10px; border-radius: 3px; box-shadow: 0 2px 4px rgba(0, 0, 0, 0.01); width: 95%; text-align: left; cursor: pointer; font-weight: bold;\">\n",
    "Expected output:</summary> \n",
    "<br>\n",
    "\n",
    "<small>\n",
    "\n",
    "```mkdn\n",
    "Ratings data retrieved \n",
    "```\n",
    "</small>\n",
    "\n",
    "</details>"
   ]
  },
  {
   "cell_type": "markdown",
   "metadata": {},
   "source": [
    "Visualize the first rows so you can understand the data you retrieved."
   ]
  },
  {
   "cell_type": "code",
   "execution_count": 6,
   "metadata": {
    "deletable": false,
    "editable": false
   },
   "outputs": [
    {
     "data": {
      "text/html": [
       "<div>\n",
       "<style scoped>\n",
       "    .dataframe tbody tr th:only-of-type {\n",
       "        vertical-align: middle;\n",
       "    }\n",
       "\n",
       "    .dataframe tbody tr th {\n",
       "        vertical-align: top;\n",
       "    }\n",
       "\n",
       "    .dataframe thead th {\n",
       "        text-align: right;\n",
       "    }\n",
       "</style>\n",
       "<table border=\"1\" class=\"dataframe\">\n",
       "  <thead>\n",
       "    <tr style=\"text-align: right;\">\n",
       "      <th></th>\n",
       "      <th>address</th>\n",
       "      <th>name</th>\n",
       "      <th>place_id</th>\n",
       "      <th>price_level</th>\n",
       "      <th>rating</th>\n",
       "      <th>total_reviews</th>\n",
       "      <th>types</th>\n",
       "    </tr>\n",
       "  </thead>\n",
       "  <tbody>\n",
       "    <tr>\n",
       "      <th>0</th>\n",
       "      <td>114 E Burnside Ave, Bronx, NY 10453, United St...</td>\n",
       "      <td>San Lucas #2 Mexican Food</td>\n",
       "      <td>ChIJB9BYbbj1wokRJ24ZgjuZplM</td>\n",
       "      <td>$$</td>\n",
       "      <td>3.6</td>\n",
       "      <td>47.0</td>\n",
       "      <td>restaurant, point_of_interest, food, establish...</td>\n",
       "    </tr>\n",
       "    <tr>\n",
       "      <th>1</th>\n",
       "      <td>238 Thompson St, New York, NY 10012, United St...</td>\n",
       "      <td>The Catholic Center at NYU</td>\n",
       "      <td>ChIJPWJOEJFZwokRX9iE7AMRQ0A</td>\n",
       "      <td>None</td>\n",
       "      <td>4.7</td>\n",
       "      <td>14.0</td>\n",
       "      <td>church, place_of_worship, point_of_interest, e...</td>\n",
       "    </tr>\n",
       "  </tbody>\n",
       "</table>\n",
       "</div>"
      ],
      "text/plain": [
       "                                             address  \\\n",
       "0  114 E Burnside Ave, Bronx, NY 10453, United St...   \n",
       "1  238 Thompson St, New York, NY 10012, United St...   \n",
       "\n",
       "                         name                     place_id price_level  \\\n",
       "0   San Lucas #2 Mexican Food  ChIJB9BYbbj1wokRJ24ZgjuZplM          $$   \n",
       "1  The Catholic Center at NYU  ChIJPWJOEJFZwokRX9iE7AMRQ0A        None   \n",
       "\n",
       "   rating  total_reviews                                              types  \n",
       "0     3.6           47.0  restaurant, point_of_interest, food, establish...  \n",
       "1     4.7           14.0  church, place_of_worship, point_of_interest, e...  "
      ]
     },
     "execution_count": 6,
     "metadata": {},
     "output_type": "execute_result"
    }
   ],
   "source": [
    "# 🔒This cell is locked. You will not be able to edit it.\n",
    "\n",
    "# show the first 2 rows of the general information dataframe\n",
    "ratings_df.head(2)"
   ]
  },
  {
   "cell_type": "markdown",
   "metadata": {},
   "source": [
    "<details>\n",
    "<summary style=\"background-color: #c6e2ff6c; padding: 10px; border-radius: 3px; box-shadow: 0 2px 4px rgba(0, 0, 0, 0.01); width: 95%; text-align: left; cursor: pointer; font-weight: bold;\">\n",
    "Expected output:</summary> \n",
    "\n",
    "<br>\n",
    "\n",
    "<img src=\"imgs/ex2.png\" width=\"900\">\n",
    "</details>"
   ]
  },
  {
   "cell_type": "markdown",
   "metadata": {},
   "source": [
    "<a id=\"step-3\"></a>\n",
    "\n",
    "## Step 3: Cleaning the Data\n",
    "\n",
    "Now that you have collected both customer feedback and inspection data, you need to ensure your insights will be accurate and reliable. As a Data Analyst, you can't recommend business improvements based on messy or inconsistent data.\n",
    "\n",
    "<a id=\"cleaning-inspection-data\"></a>\n",
    "\n",
    "### Cleaning Inspections Data\n",
    "Begin by cleaning the inspections data.\n",
    "\n",
    "<a id=\"ex3\"></a>\n",
    "\n",
    "#### Exercise 3: Convert Dates to Datetime\n",
    "<div style=\"background-color: #C6E2FF; padding: 10px; border-radius: 3px; box-shadow: 0 2px 4px rgba(0, 0, 0, 0.1); width:95%\n",
    "\">\n",
    "\n",
    "**▶▶▶ Directions**\n",
    "\n",
    "1. Standardize the column `\"DBA\"` (restaurant name): \n",
    "    - Given the name without any special characters, remove double spaces.\n",
    "    \n",
    "2. Convert columns `\"INSPECTION DATE\"`, `\"GRADE DATE\"` and `\"RECORD DATE\"` to datetime.\n",
    "\n",
    "3. Split the `\"INSPECTION TYPE\"` column, and keep only the second part of the text. To do this, split the text in `\"INSPECTION TYPE\"` using the `/` character, and keep only the second part. Make sure to strip any leading or trailing spaces from the result before saving it.\n",
    "\n",
    "4. Standardize the `\"STREET\"` column.\n",
    "    - \"AVENUE\" → \"AVE\"\n",
    "    - \"STREET\" → \"ST\"\n",
    "    - \"ROAD\" → \"RD\"\n",
    "    - \"BOULEVARD\" → \"BLVD\"\n",
    "    - \"DRIVE\" → \"DR\"\n",
    "    - \"LANE\" → \"LN\"\n",
    "    - \"COURT\" → \"CT\"\n",
    "    - \"PLACE\" → \"PL\"\n",
    "</div>"
   ]
  },
  {
   "cell_type": "markdown",
   "metadata": {},
   "source": [
    "<details>\n",
    "<summary style=\"background-color: #FDBFC7; padding: 10px; border-radius: 3px; box-shadow: 0 2px 4px rgba(0, 0, 0, 0.1); width: 95%; text-align: left; cursor: pointer; font-weight: bold;\">\n",
    "If you are stuck, click here for extra hints!</summary> \n",
    "\n",
    "<ul style=\"background-color: #FFF8F8; padding: 10px; border-radius: 3px; margin-top: 5px; width: 95%; box-shadow: inset 0 2px 4px rgba(0, 0, 0, 0.1);\">\n",
    "   \n",
    "- To convert columns to datetime, you can use the `pd.to_datetime()` function. Remember to overwrite the transformed values into the `inspections_clean` DataFrame.\n",
    "- To adjust the `\"INSPECTION TYPE\":\n",
    "    - Split the `\"INSPECTION TYPE\"` column using the `.str.split()` method.  \n",
    "    - Select the second part of the split with `.str[<<desired index>>]`.\n",
    "    - Strip the text of any leading and trailing white spaces using the `.str.strip()` method.\n",
    "- Use `str.replace()` to replace the long names to their corresponding abbreviations.\n",
    "</ul>\n",
    "\n",
    "</details>\n"
   ]
  },
  {
   "cell_type": "code",
   "execution_count": 7,
   "metadata": {
    "deletable": false,
    "tags": [
     "graded"
    ]
   },
   "outputs": [],
   "source": [
    "# GRADED CELL: Exercise 3\n",
    "\n",
    "# create a copy of the inspections dataframe to clean it\n",
    "# this is needed for grading purposes\n",
    "inspections_clean = inspections.copy()\n",
    "\n",
    "# define a pattern to identify special characters\n",
    "special_char_pattern = r\"[^A-Z0-9 ]\" \n",
    "\n",
    "# replace any special characters with \"\"\n",
    "inspections_clean[\"DBA\"] = inspections_clean[\"DBA\"].str.replace( \n",
    "                            special_char_pattern, \"\", regex=True) \n",
    "\n",
    "### START CODE HERE ###\n",
    "\n",
    "# replace double white spaces (\"  \") with a single space (\" \")\n",
    "inspections_clean[\"DBA\"] = inspections_clean[\"DBA\"].str.replace(\"  \", \" \")\n",
    "\n",
    "# convert the \"INSPECTION DATE\" column to datetime\n",
    "inspections_clean[\"INSPECTION DATE\"] = pd.to_datetime(inspections_clean[\"INSPECTION DATE\"])\n",
    "\n",
    "# convert the \"GRADE DATE\" column to datetime\n",
    "inspections_clean[\"GRADE DATE\"] = pd.to_datetime(inspections_clean[\"GRADE DATE\"])\n",
    "\n",
    "# convert the \"RECORD DATE\" column to datetime\n",
    "inspections_clean[\"RECORD DATE\"] = pd.to_datetime(inspections_clean[\"RECORD DATE\"])\n",
    "\n",
    "# split the \"INSPECTION TYPE\" column on the \"/\" character, and keep only the second part\n",
    "inspections_clean[\"INSPECTION TYPE\"] = inspections_clean[\"INSPECTION TYPE\"].str.split(\"/\").str[1].str.strip()\n",
    "\n",
    "# lists of long names and abbreviations\n",
    "long_names = [\"AVENUE\", \"STREET\", \"ROAD\", \"BOULEVARD\", \"DRIVE\", \"LANE\", \"COURT\", \"PLACE\"] \n",
    "abbreviations = [\"AVE\", \"ST\", \"RD\", \"BLVD\", \"DR\", \"LN\", \"CT\", \"PL\"] \n",
    "\n",
    "# iterate over the range of the list of long_names\n",
    "for i in range(len(long_names)): # @KEEP\n",
    "    inspections_clean[\"STREET\"] = inspections_clean[\"STREET\"].str.replace(long_names[i], abbreviations[i])\n",
    "\n",
    "### END CODE HERE ###\n",
    "\n",
    "# replace white spaces in column names\n",
    "inspections_clean.columns = inspections_clean.columns.str.replace(\" \", \"_\")"
   ]
  },
  {
   "cell_type": "code",
   "execution_count": 8,
   "metadata": {
    "deletable": false,
    "editable": false
   },
   "outputs": [
    {
     "data": {
      "text/plain": [
       "CAMIS                             int64\n",
       "DBA                              object\n",
       "BORO                             object\n",
       "BUILDING                         object\n",
       "STREET                           object\n",
       "ZIPCODE                         float64\n",
       "PHONE                            object\n",
       "CUISINE_DESCRIPTION              object\n",
       "INSPECTION_DATE          datetime64[ns]\n",
       "ACTION                           object\n",
       "VIOLATION_CODE                   object\n",
       "VIOLATION_DESCRIPTION            object\n",
       "CRITICAL_FLAG                    object\n",
       "SCORE                           float64\n",
       "GRADE                            object\n",
       "GRADE_DATE               datetime64[ns]\n",
       "RECORD_DATE              datetime64[ns]\n",
       "INSPECTION_TYPE                  object\n",
       "Latitude                        float64\n",
       "Longitude                       float64\n",
       "Community_Board                 float64\n",
       "Council_District                float64\n",
       "Census_Tract                    float64\n",
       "BIN                             float64\n",
       "BBL                             float64\n",
       "NTA                              object\n",
       "dtype: object"
      ]
     },
     "execution_count": 8,
     "metadata": {},
     "output_type": "execute_result"
    }
   ],
   "source": [
    "# 🔒This cell is locked. You will not be able to edit it.\n",
    "\n",
    "# print the new data types\n",
    "inspections_clean.dtypes"
   ]
  },
  {
   "cell_type": "markdown",
   "metadata": {},
   "source": [
    "<details>\n",
    "<summary style=\"background-color: #c6e2ff6c; padding: 10px; border-radius: 3px; box-shadow: 0 2px 4px rgba(0, 0, 0, 0.01); width: 95%; text-align: left; cursor: pointer; font-weight: bold;\">\n",
    "Expected output:</summary> \n",
    "<br>\n",
    "\n",
    "<small>\n",
    "\n",
    "```mkdn\n",
    "CAMIS                             int64\n",
    "DBA                              object\n",
    "BORO                             object\n",
    "BUILDING                         object\n",
    "STREET                           object\n",
    "ZIPCODE                         float64\n",
    "PHONE                            object\n",
    "CUISINE_DESCRIPTION              object\n",
    "INSPECTION_DATE          datetime64[ns]\n",
    "ACTION                           object\n",
    "VIOLATION_CODE                   object\n",
    "VIOLATION_DESCRIPTION            object\n",
    "CRITICAL_FLAG                    object\n",
    "SCORE                           float64\n",
    "GRADE                            object\n",
    "GRADE_DATE               datetime64[ns]\n",
    "RECORD_DATE              datetime64[ns]\n",
    "INSPECTION_TYPE                  object\n",
    "Latitude                        float64\n",
    "Longitude                       float64\n",
    "Community_Board                 float64\n",
    "Council_District                float64\n",
    "Census_Tract                    float64\n",
    "BIN                             float64\n",
    "BBL                             float64\n",
    "NTA                              object\n",
    "dtype: object\n",
    "```\n",
    "</small>\n",
    "\n",
    "\n",
    "</details>"
   ]
  },
  {
   "cell_type": "markdown",
   "metadata": {},
   "source": [
    "<a id=\"cleaning-general-information-and-details-data\"></a>\n",
    "\n",
    "### Cleaning the Ratings Data\n",
    "<a id=\"ex4\"></a>\n",
    "\n",
    "#### Exercise 4: Data Cleaning and Standardization\n",
    "\n",
    "In the case of user ratings data, some of the columns need a bit of cleaning. You will also need to handle missing values.\n",
    "\n",
    "<div style=\"background-color: #C6E2FF; padding: 10px; border-radius: 3px; box-shadow: 0 2px 4px rgba(0, 0, 0, 0.1); width:95%\n",
    "\">\n",
    "\n",
    "**▶▶▶ Directions**\n",
    "\n",
    "1. Run the next cell to clean the restaurant's name, so that the formatting matches the one in the inspections. \n",
    "2. Use the cell after that to convert the `\"price_level\"` column from the \"\\$\" scale to a numeric scale:\n",
    "    <br>    \n",
    "    \"\\$\\$\\$\\$\\$→ 5, \"\\$\\$\\$\\$\" → 4, , \"\\$\\$\\$\" → 3, \"\\$\\$\" → 2, \"\\$\" → 1, \" - No ratings yet\" → 0\n",
    "    <br>\n",
    "    <strong>NOTE</strong>: You need to replace the scales in the order above (starting with \"$$$$$\" and ending with \" - No ratings yet\"), otherwise you will get wrong results.\n",
    "3. Extract the Zip Code from the `\"address\"` column. The Zip Code corresponds to the 5 consecutive numbers after the state.\n",
    "\n",
    "</div>"
   ]
  },
  {
   "cell_type": "markdown",
   "metadata": {},
   "source": [
    "<details>\n",
    "<summary style=\"background-color: #FDBFC7; padding: 10px; border-radius: 3px; box-shadow: 0 2px 4px rgba(0, 0, 0, 0.1); width: 95%; text-align: left; cursor: pointer; font-weight: bold;\">\n",
    "If you are stuck, click here for extra hints!</summary> \n",
    "\n",
    "<ul style=\"background-color: #FFF8F8; padding: 10px; border-radius: 3px; margin-top: 5px; width: 95%; box-shadow: inset 0 2px 4px rgba(0, 0, 0, 0.1);\">\n",
    "   \n",
    "- To replace the \"$\" price scale into numeric, you can use `str.replace()` method. It is really important that you follow the order in the Directions.\n",
    "\n",
    "- You need to map the `possible_price_level[i]` to the value `5-i` so that, for example, the first value \"$$$$$\" is assigned `5-0`, which is just five.\n",
    "\n",
    "- To extract the Zip Code from the `\"address\"` column you can use the `str.extract()` method with the provided pattern. \n",
    "\n",
    "</ul>\n",
    "\n",
    "</details>\n"
   ]
  },
  {
   "cell_type": "code",
   "execution_count": 9,
   "metadata": {
    "tags": [
     "graded"
    ]
   },
   "outputs": [],
   "source": [
    "# 🔒This cell is locked. You will not be able to edit it.\n",
    "\n",
    "# make copies of the dataframe to save the cleaned version\n",
    "ratings_clean = ratings_df.copy()\n",
    "\n",
    "# data was collected via multiple queries; remove duplicate restaurants \n",
    "ratings_clean = ratings_clean.drop_duplicates()\n",
    "\n",
    "# format name - this is the same structure as in Exercise 3\n",
    "# convert the \"name\" column to uppercase \n",
    "ratings_clean[\"name\"] = ratings_clean[\"name\"].str.upper()\n",
    "\n",
    "# remove any special characters using the special_char_pattern variable (replace them with \"\")\n",
    "ratings_clean[\"name\"] = ratings_clean[\"name\"].str.replace( \n",
    "                            special_char_pattern, \"\", regex=True)\n",
    "\n",
    "# replace double spaces (\"  \") with a single space (\" \")\n",
    "ratings_clean[\"name\"] = ratings_clean[\"name\"].str.replace(\"  \", \" \")"
   ]
  },
  {
   "cell_type": "code",
   "execution_count": 13,
   "metadata": {
    "deletable": false,
    "tags": [
     "graded"
    ]
   },
   "outputs": [],
   "source": [
    "# GRADED CELL: Exercise 4\n",
    "\n",
    "### START CODE HERE ###\n",
    "\n",
    "# convert the \"price_level\" column from the \"$\" scale to a numeric scale\n",
    "# define the possible rating values. Use the same order as in the Directions!\n",
    "possible_price_level = [\"$$$$$\", \"$$$$\", \"$$$\", \"$$\", \"$\", \" - No ratings yet\"]\n",
    "\n",
    "# iterate over the possible ratings indexes:\n",
    "for i in range(len(possible_price_level)):\n",
    "    # where the \"price_level\" column matches possible_price_level[i], replace it with the\n",
    "    # 5 minus the index of the possible rating, casted as str\n",
    "    ratings_clean[\"price_level\"] = ratings_clean[\"price_level\"].str.replace(possible_price_level[i], str(5-i))\n",
    "\n",
    "\n",
    "# extract zip codes. the zip code is the last 5 digits of the \"formatted_address\" column\n",
    "ratings_clean[\"zip_code\"] = ratings_clean[\"address\"].str.extract(r\"(\\d{5})\")\n",
    "\n",
    "### END CODE HERE ###"
   ]
  },
  {
   "cell_type": "code",
   "execution_count": 14,
   "metadata": {
    "deletable": false,
    "editable": false
   },
   "outputs": [
    {
     "data": {
      "text/html": [
       "<div>\n",
       "<style scoped>\n",
       "    .dataframe tbody tr th:only-of-type {\n",
       "        vertical-align: middle;\n",
       "    }\n",
       "\n",
       "    .dataframe tbody tr th {\n",
       "        vertical-align: top;\n",
       "    }\n",
       "\n",
       "    .dataframe thead th {\n",
       "        text-align: right;\n",
       "    }\n",
       "</style>\n",
       "<table border=\"1\" class=\"dataframe\">\n",
       "  <thead>\n",
       "    <tr style=\"text-align: right;\">\n",
       "      <th></th>\n",
       "      <th>address</th>\n",
       "      <th>name</th>\n",
       "      <th>place_id</th>\n",
       "      <th>price_level</th>\n",
       "      <th>rating</th>\n",
       "      <th>total_reviews</th>\n",
       "      <th>types</th>\n",
       "      <th>zip_code</th>\n",
       "    </tr>\n",
       "  </thead>\n",
       "  <tbody>\n",
       "    <tr>\n",
       "      <th>0</th>\n",
       "      <td>114 E Burnside Ave, Bronx, NY 10453, United St...</td>\n",
       "      <td>SAN LUCAS 2 MEXICAN FOOD</td>\n",
       "      <td>ChIJB9BYbbj1wokRJ24ZgjuZplM</td>\n",
       "      <td>2</td>\n",
       "      <td>3.6</td>\n",
       "      <td>47.0</td>\n",
       "      <td>restaurant, point_of_interest, food, establish...</td>\n",
       "      <td>10453</td>\n",
       "    </tr>\n",
       "    <tr>\n",
       "      <th>1</th>\n",
       "      <td>238 Thompson St, New York, NY 10012, United St...</td>\n",
       "      <td>THE CATHOLIC CENTER AT NYU</td>\n",
       "      <td>ChIJPWJOEJFZwokRX9iE7AMRQ0A</td>\n",
       "      <td>None</td>\n",
       "      <td>4.7</td>\n",
       "      <td>14.0</td>\n",
       "      <td>church, place_of_worship, point_of_interest, e...</td>\n",
       "      <td>10012</td>\n",
       "    </tr>\n",
       "    <tr>\n",
       "      <th>2</th>\n",
       "      <td>150-29 Northern Blvd, Flushing, NY 11354, Unit...</td>\n",
       "      <td>HANYANG CHICKEN FLUSHING</td>\n",
       "      <td>ChIJPy7oSkVhwokRiCgXhYA7KBo</td>\n",
       "      <td>2</td>\n",
       "      <td>4.4</td>\n",
       "      <td>87.0</td>\n",
       "      <td>restaurant, food, point_of_interest, establish...</td>\n",
       "      <td>11354</td>\n",
       "    </tr>\n",
       "  </tbody>\n",
       "</table>\n",
       "</div>"
      ],
      "text/plain": [
       "                                             address  \\\n",
       "0  114 E Burnside Ave, Bronx, NY 10453, United St...   \n",
       "1  238 Thompson St, New York, NY 10012, United St...   \n",
       "2  150-29 Northern Blvd, Flushing, NY 11354, Unit...   \n",
       "\n",
       "                         name                     place_id price_level  \\\n",
       "0    SAN LUCAS 2 MEXICAN FOOD  ChIJB9BYbbj1wokRJ24ZgjuZplM           2   \n",
       "1  THE CATHOLIC CENTER AT NYU  ChIJPWJOEJFZwokRX9iE7AMRQ0A        None   \n",
       "2   HANYANG CHICKEN FLUSHING   ChIJPy7oSkVhwokRiCgXhYA7KBo           2   \n",
       "\n",
       "   rating  total_reviews                                              types  \\\n",
       "0     3.6           47.0  restaurant, point_of_interest, food, establish...   \n",
       "1     4.7           14.0  church, place_of_worship, point_of_interest, e...   \n",
       "2     4.4           87.0  restaurant, food, point_of_interest, establish...   \n",
       "\n",
       "  zip_code  \n",
       "0    10453  \n",
       "1    10012  \n",
       "2    11354  "
      ]
     },
     "execution_count": 14,
     "metadata": {},
     "output_type": "execute_result"
    }
   ],
   "source": [
    "# 🔒This cell is locked. You will not be able to edit it.\n",
    "\n",
    "ratings_clean.head(3)"
   ]
  },
  {
   "cell_type": "markdown",
   "metadata": {},
   "source": [
    "<details>\n",
    "<summary style=\"background-color: #c6e2ff6c; padding: 10px; border-radius: 3px; box-shadow: 0 2px 4px rgba(0, 0, 0, 0.01); width: 95%; text-align: left; cursor: pointer; font-weight: bold;\">\n",
    "Expected output:</summary> \n",
    "\n",
    "<br>\n",
    "\n",
    "<img src=\"imgs/ex4.png\" width=\"900\">\n",
    "</details>"
   ]
  },
  {
   "cell_type": "markdown",
   "metadata": {},
   "source": [
    "<a id=\"ex4\"></a>\n",
    "\n",
    "#### Exercise 5: Convert to Correct Data Types\n",
    "Last step in the data cleaning is to convert each column in the correct type.\n",
    "\n",
    "<div style=\"background-color: #C6E2FF; padding: 10px; border-radius: 3px; box-shadow: 0 2px 4px rgba(0, 0, 0, 0.1); width:95%\n",
    "\">\n",
    "\n",
    "**▶▶▶ Directions**\n",
    " 1. Use the next cell to print the data types of each column.\n",
    " 2. In the following cell, convert the data type of columns `price_level` and `zip_code` to `\"Int64\"`.\n",
    "</div>\n",
    "\n"
   ]
  },
  {
   "cell_type": "markdown",
   "metadata": {},
   "source": [
    "<details>\n",
    "<summary style=\"background-color: #FDBFC7; padding: 10px; border-radius: 3px; box-shadow: 0 2px 4px rgba(0, 0, 0, 0.1); width: 95%; text-align: left; cursor: pointer; font-weight: bold;\">\n",
    "If you are stuck, click here for extra hints!</summary> \n",
    "\n",
    "<ul style=\"background-color: #FFF8F8; padding: 10px; border-radius: 3px; margin-top: 5px; width: 95%; box-shadow: inset 0 2px 4px rgba(0, 0, 0, 0.1);\">\n",
    "   \n",
    "- To convert columns to \"Int64\", you can use the `.astype()` method. Don't forget to overwrite the column in `ratings_clean`.\n",
    "</ul>\n",
    "\n",
    "</details>\n"
   ]
  },
  {
   "cell_type": "code",
   "execution_count": 15,
   "metadata": {
    "deletable": false,
    "editable": false
   },
   "outputs": [
    {
     "name": "stdout",
     "output_type": "stream",
     "text": [
      "Restaurant data types:\n",
      "address           object\n",
      "name              object\n",
      "place_id          object\n",
      "price_level       object\n",
      "rating           float64\n",
      "total_reviews    float64\n",
      "types             object\n",
      "zip_code          object\n",
      "dtype: object \n",
      "\n"
     ]
    }
   ],
   "source": [
    "# 🔒This cell is locked. You will not be able to edit it.\n",
    "\n",
    "# print the data types before converting data types\n",
    "print(\"Restaurant data types:\")\n",
    "print(ratings_clean.dtypes, \"\\n\")"
   ]
  },
  {
   "cell_type": "code",
   "execution_count": 16,
   "metadata": {
    "deletable": false,
    "tags": [
     "graded"
    ]
   },
   "outputs": [],
   "source": [
    "# GRADED CELL: Exercise 5\n",
    "\n",
    "### START CODE HERE ###\n",
    "\n",
    "# convert the \"price_level\" column to \"Int64\" type\n",
    "ratings_clean[\"price_level\"] = ratings_clean[\"price_level\"].astype(\"Int64\")\n",
    "\n",
    "# convert the \"zip_code\" column to \"Int64\" type\n",
    "ratings_clean[\"zip_code\"] = ratings_clean[\"zip_code\"].astype(\"Int64\")\n",
    "\n",
    "### END CODE HERE ###"
   ]
  },
  {
   "cell_type": "code",
   "execution_count": 17,
   "metadata": {
    "deletable": false,
    "editable": false
   },
   "outputs": [
    {
     "name": "stdout",
     "output_type": "stream",
     "text": [
      "General information data types:\n",
      "address           object\n",
      "name              object\n",
      "place_id          object\n",
      "price_level        Int64\n",
      "rating           float64\n",
      "total_reviews    float64\n",
      "types             object\n",
      "zip_code           Int64\n",
      "dtype: object\n"
     ]
    }
   ],
   "source": [
    "# print the data types to verify your changes\n",
    "print(\"General information data types:\")\n",
    "print(ratings_clean.dtypes)"
   ]
  },
  {
   "cell_type": "markdown",
   "metadata": {},
   "source": [
    "\n",
    "<details>\n",
    "<summary style=\"background-color: #c6e2ff6c; padding: 10px; border-radius: 3px; box-shadow: 0 2px 4px rgba(0, 0, 0, 0.01); width: 95%; text-align: left; cursor: pointer; font-weight: bold;\">\n",
    "Expected output:</summary> \n",
    "<br>\n",
    "\n",
    "<small>\n",
    "\n",
    "```mkdn\n",
    "General information data types:\n",
    "address           object\n",
    "name              object\n",
    "place_id          object\n",
    "price_level        Int64\n",
    "rating           float64\n",
    "total_reviews    float64\n",
    "types             object\n",
    "zip_code           Int64\n",
    "dtype: object\n",
    "```\n",
    "</small>\n",
    "\n",
    "</details>"
   ]
  },
  {
   "cell_type": "markdown",
   "metadata": {},
   "source": [
    "Now that your data is clean, you can get some nice insights. For example, you can have a colored map showing the average rating and average score in each ZIP code."
   ]
  },
  {
   "cell_type": "code",
   "execution_count": 18,
   "metadata": {
    "deletable": false,
    "editable": false
   },
   "outputs": [
    {
     "data": {
      "image/png": "[encoded data removed]",
      "text/plain": [
       "<Figure size 1500x500 with 4 Axes>"
      ]
     },
     "metadata": {},
     "output_type": "display_data"
    }
   ],
   "source": [
    "# 🔒This cell is locked. You will not be able to edit it.\n",
    "\n",
    "# plot average rating and average score per zip code\n",
    "import geopandas as gpd\n",
    "\n",
    "# group by zip_code and calculate the average rating for each ZipCode\n",
    "rating_by_zipcode = ratings_clean.groupby(\"zip_code\")[\"rating\"].mean().reset_index()\n",
    "\n",
    "# group by zip_code and calculate the average SCORE for each ZipCode\n",
    "score_by_zipcode = inspections.groupby(\"ZIPCODE\")[\"SCORE\"].mean().reset_index()\n",
    "\n",
    "# load the shapefile with the map of New York zip codes\n",
    "zipcodes_shapefile = gpd.read_file(\"maps/NY/NY-zipcodes.shp\")\n",
    "# rename the column to merge the dataframesq\n",
    "zipcodes_shapefile.rename(columns={\"ZCTA5CE20\": \"zip_code\"}, inplace=True)\n",
    "# convert the column to numeric\n",
    "zipcodes_shapefile[\"zip_code\"] = pd.to_numeric(zipcodes_shapefile[\"zip_code\"])\n",
    "\n",
    "# Merge the average ratings with the shapefile\n",
    "merged_rating = zipcodes_shapefile.merge(rating_by_zipcode, left_on=\"zip_code\", right_on=\"zip_code\")\n",
    "# merge the average score with the shapefile\n",
    "merged_score = zipcodes_shapefile.merge(score_by_zipcode, left_on=\"zip_code\", right_on=\"ZIPCODE\")\n",
    "\n",
    "# plot the maps\n",
    "fig, ax = plt.subplots(1, 2, figsize=(15, 5))\n",
    "merged_rating.plot(column=\"rating\", ax=ax[0], legend=True, cmap=\"coolwarm\", vmin=1, vmax=5, legend_kwds={\"label\": \"Average Rating\"})\n",
    "ax[0].set_title(\"Average Rating per Zipcode\")\n",
    "merged_score.plot(column=\"SCORE\", ax=ax[1], legend=True, cmap=\"coolwarm_r\", legend_kwds={\"label\": \"Average Score\"})\n",
    "ax[1].set_title(\"Average Score per Zipcode\")\n",
    "plt.show()"
   ]
  },
  {
   "cell_type": "markdown",
   "metadata": {},
   "source": [
    "Color scales are inverted in the two maps, so that in both maps red is good (better ratings and better grades), and blue is bad. Can you find any interesting patterns?"
   ]
  },
  {
   "cell_type": "markdown",
   "metadata": {},
   "source": [
    "<a id=\"data-quality-analysis\"></a>\n",
    "\n",
    "### Data Quality Analysis\n",
    "\n",
    "Before you continue, you will need to validate your data and clean it. Some restaurant reviews don't actually belong to the NYC area, and thus need to be removed from the dataset. \n",
    "\n",
    "\n",
    "<div style=\"background-color: #C6E2FF; padding: 10px; border-radius: 3px; box-shadow: 0 2px 4px rgba(0, 0, 0, 0.1); width:95%\n",
    "\">\n",
    "\n",
    "**▶▶▶ Directions**\n",
    "\n",
    "1. Run the cell below to find the number of `ZipCodes` in `ratings_clean` which do not correspond to New York City, and remove them. NYC ZIP codes run from 10001 through 11697.\n",
    "\n",
    "</div>"
   ]
  },
  {
   "cell_type": "code",
   "execution_count": 19,
   "metadata": {
    "deletable": false,
    "editable": false,
    "tags": [
     "graded"
    ]
   },
   "outputs": [],
   "source": [
    "# 🔒This cell is locked. You will not be able to edit it.\n",
    "\n",
    "# remove the zip code OOR values \n",
    "ratings_clean = ratings_clean[(ratings_clean[\"zip_code\"] >= 10001) & (ratings_clean[\"zip_code\"] <= 11697)]"
   ]
  },
  {
   "cell_type": "markdown",
   "metadata": {},
   "source": [
    "<a id=\"step-5\"></a>\n",
    "\n",
    "## Step 5: Converting your tables to SQL Databases\n",
    "Now that your data is cleaned and consistent, it is a good idea to save it in some data structure, so you can share it with your company, or work on it later on. An excellent choice are SQL databases. SQL allows for more efficient querying, especially with large datasets. You decide to convert your data into a SQLite database to process your findings.\n",
    "\n",
    "<div style=\"background-color: #C6E2FF; padding: 10px; border-radius: 3px; box-shadow: 0 2px 4px rgba(0, 0, 0, 0.1); width:95%\n",
    "\">\n",
    "\n",
    "**▶▶▶ Directions**\n",
    "\n",
    "1. Run the cell below to convert the ratings and inspection tables into a SQLite database. \n",
    "</div>"
   ]
  },
  {
   "cell_type": "code",
   "execution_count": 21,
   "metadata": {
    "deletable": false,
    "editable": false
   },
   "outputs": [
    {
     "name": "stdout",
     "output_type": "stream",
     "text": [
      "DataFrames have been saved to the SQLite database 'restaurant_data.db'\n"
     ]
    }
   ],
   "source": [
    "# 🔒This cell is locked. You will not be able to edit it.\n",
    "\n",
    "# save to a database\n",
    "# Create a connection to the SQLite database\n",
    "connection = sqlite3.connect(\"restaurant_data.db\")\n",
    "\n",
    "# Save the DataFrames to the SQLite database\n",
    "inspections_clean.to_sql(\"inspections\", connection, if_exists=\"replace\", index=False)\n",
    "ratings_clean.to_sql(\"ratings\", connection, if_exists=\"replace\", index=False)\n",
    "\n",
    "\n",
    "# Close the connection\n",
    "connection.close()\n",
    "\n",
    "print(\"DataFrames have been saved to the SQLite database 'restaurant_data.db'\")"
   ]
  },
  {
   "cell_type": "markdown",
   "metadata": {},
   "source": [
    "<a id=\"step-6\"></a>\n",
    "\n",
    "## Step 6: Processing your data with SQL\n",
    "\n",
    "In order to process the data and create meaningful insights you will connect the SQL database you just created.\n",
    "\n",
    "<a id=\"creating-the-connection\"></a>\n",
    "\n",
    "### Creating the Connection\n",
    "\n",
    "Begin by creating a connection.\n",
    "\n",
    "<div style=\"background-color: #C6E2FF; padding: 10px; border-radius: 3px; box-shadow: 0 2px 4px rgba(0, 0, 0, 0.1); width:95%\">\n",
    "\n",
    "**▶▶▶ Directions**\n",
    "\n",
    "1. Run the cell below to connect to the SQLite database `\"restaurant_data.db\"`.\n",
    "</div>"
   ]
  },
  {
   "cell_type": "code",
   "execution_count": 25,
   "metadata": {
    "deletable": false,
    "editable": false,
    "slideshow": {
     "slide_type": ""
    },
    "tags": [
     "graded"
    ]
   },
   "outputs": [
    {
     "data": {
      "text/html": [
       "<div>\n",
       "<style scoped>\n",
       "    .dataframe tbody tr th:only-of-type {\n",
       "        vertical-align: middle;\n",
       "    }\n",
       "\n",
       "    .dataframe tbody tr th {\n",
       "        vertical-align: top;\n",
       "    }\n",
       "\n",
       "    .dataframe thead th {\n",
       "        text-align: right;\n",
       "    }\n",
       "</style>\n",
       "<table border=\"1\" class=\"dataframe\">\n",
       "  <thead>\n",
       "    <tr style=\"text-align: right;\">\n",
       "      <th></th>\n",
       "      <th>address</th>\n",
       "      <th>name</th>\n",
       "      <th>place_id</th>\n",
       "      <th>price_level</th>\n",
       "      <th>rating</th>\n",
       "      <th>total_reviews</th>\n",
       "      <th>types</th>\n",
       "      <th>zip_code</th>\n",
       "    </tr>\n",
       "  </thead>\n",
       "  <tbody>\n",
       "    <tr>\n",
       "      <th>0</th>\n",
       "      <td>114 E Burnside Ave, Bronx, NY 10453, United St...</td>\n",
       "      <td>SAN LUCAS 2 MEXICAN FOOD</td>\n",
       "      <td>ChIJB9BYbbj1wokRJ24ZgjuZplM</td>\n",
       "      <td>2</td>\n",
       "      <td>3.6</td>\n",
       "      <td>47.0</td>\n",
       "      <td>restaurant, point_of_interest, food, establish...</td>\n",
       "      <td>10453</td>\n",
       "    </tr>\n",
       "  </tbody>\n",
       "</table>\n",
       "</div>"
      ],
      "text/plain": [
       "                                             address  \\\n",
       "0  114 E Burnside Ave, Bronx, NY 10453, United St...   \n",
       "\n",
       "                       name                     place_id  price_level  rating  \\\n",
       "0  SAN LUCAS 2 MEXICAN FOOD  ChIJB9BYbbj1wokRJ24ZgjuZplM            2     3.6   \n",
       "\n",
       "   total_reviews                                              types  zip_code  \n",
       "0           47.0  restaurant, point_of_interest, food, establish...     10453  "
      ]
     },
     "execution_count": 25,
     "metadata": {},
     "output_type": "execute_result"
    }
   ],
   "source": [
    "# 🔒This cell is locked. You will not be able to edit it.\n",
    "\n",
    "# create a connection to the database\n",
    "connection = sqlite3.connect(\"restaurant_data.db\")\n",
    "\n",
    "# test with a small query\n",
    "query = \"\"\"\n",
    "SELECT * \n",
    "FROM ratings \n",
    "LIMIT 1\n",
    "\"\"\"\n",
    "pd.read_sql_query(query, connection)"
   ]
  },
  {
   "cell_type": "markdown",
   "metadata": {},
   "source": [
    "<a id=\"getting-insights\"></a>\n",
    "\n",
    "### Getting insights\n",
    "\n",
    "<a id=\"ex6\"></a>\n",
    "\n",
    "#### Exercise 6: Scores by Cuisine Types\n",
    "\n",
    "As a restaurant consultant, your clients often ask whether their cuisine type puts them at higher risk for health violations. You need to analyze inspection score patterns across different cuisines to provide targeted recommendations.\n",
    "\n",
    "Remember that lower scores are better.\n",
    "\n",
    "<div style=\"background-color: #C6E2FF; padding: 10px; border-radius: 3px; box-shadow: 0 2px 4px rgba(0, 0, 0, 0.1); width:95%\n",
    "\">\n",
    "\n",
    "**▶▶▶ Directions**\n",
    "1. Write a SQLite query that:\n",
    "    - Selects the `CUISINE_DESCRIPTION` column from the `inspections` table.\n",
    "    - Groups the inspections by `CUISINE_DESCRIPTION`\n",
    "    - Counts the total number of inspections per cuisine type. Use the alias `total_inspections`.\n",
    "    - Orders the results by `avg_score` from lowest to highest.\n",
    "\n",
    "2. Run the query.\n",
    "</div>"
   ]
  },
  {
   "cell_type": "markdown",
   "metadata": {},
   "source": [
    "<details>\n",
    "<summary style=\"background-color: #FDBFC7; padding: 10px; border-radius: 3px; box-shadow: 0 2px 4px rgba(0, 0, 0, 0.1); width: 95%; text-align: left; cursor: pointer; font-weight: bold;\">\n",
    "If you are stuck, click here for extra hints!</summary> \n",
    "\n",
    "<ul style=\"background-color: #FFF8F8; padding: 10px; border-radius: 3px; margin-top: 5px; width: 95%; box-shadow: inset 0 2px 4px rgba(0, 0, 0, 0.1);\">\n",
    "   \n",
    "- To calculate average value you can use the `AVG()` function. You need to pass the column you wish to operate on as an argument.\n",
    "- To count the number of elements, you can use the `COUNT()` function. \n",
    "- To segment by \"CUISINE_DESCRIPTION\", you can use the `GROUP BY` statement.\n",
    "- To order the results, use the `ORDER BY` statement.\n",
    "\n",
    "</ul>\n",
    "\n",
    "</details>\n"
   ]
  },
  {
   "cell_type": "code",
   "execution_count": 27,
   "metadata": {
    "deletable": false,
    "tags": [
     "graded"
    ]
   },
   "outputs": [],
   "source": [
    "# GRADED CELL: Exercise 6\n",
    "\n",
    "### START CODE HERE ###\n",
    "\n",
    "# write the query for the problem\n",
    "query_score_by_type = \"\"\"\n",
    "SELECT CUISINE_DESCRIPTION, \n",
    "       COUNT(*) as total_inspections, \n",
    "       AVG(SCORE) as avg_score\n",
    "FROM inspections\n",
    "GROUP BY CUISINE_DESCRIPTION \n",
    "ORDER BY avg_score\n",
    "\"\"\"\n",
    "### END CODE HERE ###\n",
    "\n",
    "# run the   query\n",
    "scores_by_cuisine_df = pd.read_sql_query(query_score_by_type, connection)"
   ]
  },
  {
   "cell_type": "code",
   "execution_count": 28,
   "metadata": {
    "deletable": false,
    "editable": false
   },
   "outputs": [
    {
     "data": {
      "text/html": [
       "<div>\n",
       "<style scoped>\n",
       "    .dataframe tbody tr th:only-of-type {\n",
       "        vertical-align: middle;\n",
       "    }\n",
       "\n",
       "    .dataframe tbody tr th {\n",
       "        vertical-align: top;\n",
       "    }\n",
       "\n",
       "    .dataframe thead th {\n",
       "        text-align: right;\n",
       "    }\n",
       "</style>\n",
       "<table border=\"1\" class=\"dataframe\">\n",
       "  <thead>\n",
       "    <tr style=\"text-align: right;\">\n",
       "      <th></th>\n",
       "      <th>CUISINE_DESCRIPTION</th>\n",
       "      <th>total_inspections</th>\n",
       "      <th>avg_score</th>\n",
       "    </tr>\n",
       "  </thead>\n",
       "  <tbody>\n",
       "    <tr>\n",
       "      <th>0</th>\n",
       "      <td>Portuguese</td>\n",
       "      <td>3</td>\n",
       "      <td>7.333333</td>\n",
       "    </tr>\n",
       "    <tr>\n",
       "      <th>1</th>\n",
       "      <td>Cajun</td>\n",
       "      <td>5</td>\n",
       "      <td>7.600000</td>\n",
       "    </tr>\n",
       "    <tr>\n",
       "      <th>2</th>\n",
       "      <td>Creole/Cajun</td>\n",
       "      <td>9</td>\n",
       "      <td>9.555556</td>\n",
       "    </tr>\n",
       "    <tr>\n",
       "      <th>3</th>\n",
       "      <td>Nuts/Confectionary</td>\n",
       "      <td>2</td>\n",
       "      <td>12.000000</td>\n",
       "    </tr>\n",
       "    <tr>\n",
       "      <th>4</th>\n",
       "      <td>Armenian</td>\n",
       "      <td>9</td>\n",
       "      <td>12.333333</td>\n",
       "    </tr>\n",
       "  </tbody>\n",
       "</table>\n",
       "</div>"
      ],
      "text/plain": [
       "  CUISINE_DESCRIPTION  total_inspections  avg_score\n",
       "0          Portuguese                  3   7.333333\n",
       "1               Cajun                  5   7.600000\n",
       "2        Creole/Cajun                  9   9.555556\n",
       "3  Nuts/Confectionary                  2  12.000000\n",
       "4            Armenian                  9  12.333333"
      ]
     },
     "execution_count": 28,
     "metadata": {},
     "output_type": "execute_result"
    }
   ],
   "source": [
    "# 🔒This cell is locked. You will not be able to edit it.\n",
    "\n",
    "scores_by_cuisine_df.head()"
   ]
  },
  {
   "cell_type": "markdown",
   "metadata": {},
   "source": [
    "<details>\n",
    "<summary style=\"background-color: #c6e2ff6c; padding: 10px; border-radius: 3px; box-shadow: 0 2px 4px rgba(0, 0, 0, 0.01); width: 95%; text-align: left; cursor: pointer; font-weight: bold;\">\n",
    "Expected output:</summary> \n",
    "\n",
    "<br>\n",
    "\n",
    "<img src=\"imgs/ex6.png\" width=\"350\">\n",
    "</details>"
   ]
  },
  {
   "cell_type": "markdown",
   "metadata": {},
   "source": [
    "You can use this query to visualize the average score per cuisine type."
   ]
  },
  {
   "cell_type": "code",
   "execution_count": 29,
   "metadata": {
    "deletable": false,
    "editable": false
   },
   "outputs": [
    {
     "data": {
      "image/png": "[encoded data removed]",
      "text/plain": [
       "<Figure size 640x480 with 1 Axes>"
      ]
     },
     "metadata": {},
     "output_type": "display_data"
    }
   ],
   "source": [
    "# 🔒This cell is locked. You will not be able to edit it.\n",
    "\n",
    "# Define a function to assign grades based on the score\n",
    "def assign_grade(score):\n",
    "    if score < 14:\n",
    "        return \"A\"\n",
    "    elif 14 <= score <= 27:\n",
    "        return \"B\"\n",
    "    else:\n",
    "        return \"C\"\n",
    "\n",
    "# Apply the function to create a new column \"grade\"\n",
    "scores_by_cuisine_df[\"grade\"] = scores_by_cuisine_df[\"avg_score\"].apply(assign_grade)\n",
    "\n",
    "# Define a color palette for the grades\n",
    "palette = {\"A\": \"green\", \"B\": \"yellow\", \"C\": \"red\"}\n",
    "\n",
    "# Create the bar plot with colored bars\n",
    "sns.barplot(data=scores_by_cuisine_df.head(15), x=\"avg_score\", y=\"CUISINE_DESCRIPTION\", hue=\"grade\", palette=palette, dodge=False)\n",
    "plt.title(\"Average Health Inspection Scores by Cuisine Type\")\n",
    "\n",
    "# Create a custom legend\n",
    "handles = [plt.Line2D([0], [0], color=color, lw=4) for color in palette.values()]\n",
    "labels = palette.keys()\n",
    "plt.legend(handles, labels, title=\"Grade\")\n",
    "\n",
    "plt.show()"
   ]
  },
  {
   "cell_type": "markdown",
   "metadata": {},
   "source": [
    "<a id=\"ex 7\"></a>\n",
    "\n",
    "#### Exercise 7: Price Level Impact\n",
    "\n",
    "Your team wants to understand if higher-priced restaurants actually maintain better health standards. This analysis will help you advise clients on whether investing more in their operations translates to better health compliance.\n",
    "\n",
    "<div style=\"background-color: #C6E2FF; padding: 10px; border-radius: 3px; box-shadow: 0 2px 4px rgba(0, 0, 0, 0.1); width:95%\n",
    "\">\n",
    "\n",
    "**▶▶▶ Directions**\n",
    "1. Write a SQLite query that:\n",
    "    - Selects `DBA` (restaurant's name), `SCORE` and `INSPECTION_DATE` from the `inspections` table, and `price_level`, and `rating` from the `ratings` table.\n",
    "    - You will see there is a `DISTINCT` clause inserted after `SELECT`. This is because the `DBA` column isn't unique in the `inspections` table.\n",
    "    - Joins the `inspections` table with the `ratings` table. Since a brand can have more than one store on different location, you will need to join on two conditions:\n",
    "        - `inspections.DBA` matches `ratings.name`.\n",
    "        - `inspections.ZIPCODE` matches `ratings.zip_code`\n",
    "    - Filters missing `price_level` values.\n",
    "    - Orders the results by inspection score in descending order (highest scores first).\n",
    "2. Run the query.\n",
    "\n",
    "</div>\n",
    "\n",
    "Remember that if you need any help with the query you can always ask an LLM for help. In this lab you have access to Coursera Coach <img src=\"imgs/cc.png\" width=30>, but you can use the LLM you like the best."
   ]
  },
  {
   "cell_type": "markdown",
   "metadata": {},
   "source": [
    "<details>\n",
    "<summary style=\"background-color: #FDBFC7; padding: 10px; border-radius: 3px; box-shadow: 0 2px 4px rgba(0, 0, 0, 0.1); width: 95%; text-align: left; cursor: pointer; font-weight: bold;\">\n",
    "If you are stuck, click here for extra hints!</summary> \n",
    "\n",
    "<ul style=\"background-color: #FFF8F8; padding: 10px; border-radius: 3px; margin-top: 5px; width: 95%; box-shadow: inset 0 2px 4px rgba(0, 0, 0, 0.1);\">\n",
    "   \n",
    "- Don't forget to add the `DISTINCT` statement after `SELECT`.\n",
    "- To join the table, use the `JOIN` statement. To join tables by more than one criteria, use an `AND` statement between the join condition. It should look something like this:\n",
    "    ```SQL\n",
    "    FROM table1\n",
    "    JOIN table2 ON table1.col1A = table2.col2A AND table1.col1B = table2.col2B\n",
    "    ```\n",
    "- To filter missing values you can use the `IS NOT NULL` clause.\n",
    "- To order the results, use the `ORDER BY` statement, and indicate how you want the order (DESC).\n",
    "\n",
    "</ul>\n",
    "\n",
    "</details>\n"
   ]
  },
  {
   "cell_type": "code",
   "execution_count": 32,
   "metadata": {
    "deletable": false,
    "tags": [
     "graded"
    ]
   },
   "outputs": [],
   "source": [
    "# GRADED CELL: Exercise 7\n",
    "\n",
    "### START CODE HERE ###\n",
    "\n",
    "# write the query for the problem. Begin with SELECT DISTINCT\n",
    "query_score_by_price_level = \"\"\"\n",
    "SELECT DISTINCT inspections.DBA, \n",
    "                   inspections.SCORE, \n",
    "                   inspections.INSPECTION_DATE, \n",
    "                   ratings.price_level, \n",
    "                   ratings.rating \n",
    "FROM inspections JOIN ratings \n",
    "ON  inspections.DBA = ratings.NAME AND\n",
    "    inspections.zipcode = ratings.zip_code\n",
    "WHERE ratings.price_level IS NOT NULL\n",
    "ORDER BY inspections.score DESC\n",
    "\"\"\"\n",
    "### END CODE HERE ###\n",
    "\n",
    "# run the query\n",
    "score_by_price_level_df = pd.read_sql_query(query_score_by_price_level, connection)"
   ]
  },
  {
   "cell_type": "code",
   "execution_count": 33,
   "metadata": {
    "deletable": false,
    "editable": false
   },
   "outputs": [
    {
     "data": {
      "text/html": [
       "<div>\n",
       "<style scoped>\n",
       "    .dataframe tbody tr th:only-of-type {\n",
       "        vertical-align: middle;\n",
       "    }\n",
       "\n",
       "    .dataframe tbody tr th {\n",
       "        vertical-align: top;\n",
       "    }\n",
       "\n",
       "    .dataframe thead th {\n",
       "        text-align: right;\n",
       "    }\n",
       "</style>\n",
       "<table border=\"1\" class=\"dataframe\">\n",
       "  <thead>\n",
       "    <tr style=\"text-align: right;\">\n",
       "      <th></th>\n",
       "      <th>DBA</th>\n",
       "      <th>SCORE</th>\n",
       "      <th>INSPECTION_DATE</th>\n",
       "      <th>price_level</th>\n",
       "      <th>rating</th>\n",
       "    </tr>\n",
       "  </thead>\n",
       "  <tbody>\n",
       "    <tr>\n",
       "      <th>0</th>\n",
       "      <td>FUSION EAST</td>\n",
       "      <td>131.0</td>\n",
       "      <td>2024-09-19 00:00:00</td>\n",
       "      <td>2</td>\n",
       "      <td>3.8</td>\n",
       "    </tr>\n",
       "    <tr>\n",
       "      <th>1</th>\n",
       "      <td>HALAL MUNCHIES</td>\n",
       "      <td>122.0</td>\n",
       "      <td>2024-10-07 00:00:00</td>\n",
       "      <td>1</td>\n",
       "      <td>4.6</td>\n",
       "    </tr>\n",
       "    <tr>\n",
       "      <th>2</th>\n",
       "      <td>PANNA II GARDEN INDIAN RESTAURANT</td>\n",
       "      <td>121.0</td>\n",
       "      <td>2024-07-24 00:00:00</td>\n",
       "      <td>1</td>\n",
       "      <td>3.5</td>\n",
       "    </tr>\n",
       "    <tr>\n",
       "      <th>3</th>\n",
       "      <td>CHEF 28</td>\n",
       "      <td>118.0</td>\n",
       "      <td>2024-08-01 00:00:00</td>\n",
       "      <td>2</td>\n",
       "      <td>3.9</td>\n",
       "    </tr>\n",
       "    <tr>\n",
       "      <th>4</th>\n",
       "      <td>HABANA OUTPOST</td>\n",
       "      <td>113.0</td>\n",
       "      <td>2024-09-25 00:00:00</td>\n",
       "      <td>1</td>\n",
       "      <td>4.6</td>\n",
       "    </tr>\n",
       "  </tbody>\n",
       "</table>\n",
       "</div>"
      ],
      "text/plain": [
       "                                 DBA  SCORE      INSPECTION_DATE  price_level  \\\n",
       "0                        FUSION EAST  131.0  2024-09-19 00:00:00            2   \n",
       "1                     HALAL MUNCHIES  122.0  2024-10-07 00:00:00            1   \n",
       "2  PANNA II GARDEN INDIAN RESTAURANT  121.0  2024-07-24 00:00:00            1   \n",
       "3                            CHEF 28  118.0  2024-08-01 00:00:00            2   \n",
       "4                     HABANA OUTPOST  113.0  2024-09-25 00:00:00            1   \n",
       "\n",
       "   rating  \n",
       "0     3.8  \n",
       "1     4.6  \n",
       "2     3.5  \n",
       "3     3.9  \n",
       "4     4.6  "
      ]
     },
     "execution_count": 33,
     "metadata": {},
     "output_type": "execute_result"
    }
   ],
   "source": [
    "score_by_price_level_df.head()"
   ]
  },
  {
   "cell_type": "markdown",
   "metadata": {},
   "source": [
    "<details>\n",
    "<summary style=\"background-color: #c6e2ff6c; padding: 10px; border-radius: 3px; box-shadow: 0 2px 4px rgba(0, 0, 0, 0.01); width: 95%; text-align: left; cursor: pointer; font-weight: bold;\">\n",
    "Expected output:</summary> \n",
    "\n",
    "<br>\n",
    "\n",
    "<img src=\"imgs/ex7.png\" width=\"550\">\n",
    "</details>"
   ]
  },
  {
   "cell_type": "code",
   "execution_count": 34,
   "metadata": {
    "deletable": false,
    "editable": false
   },
   "outputs": [
    {
     "data": {
      "text/plain": [
       "Text(0.5, 1.0, 'Health Inspection Scores by Price Level')"
      ]
     },
     "execution_count": 34,
     "metadata": {},
     "output_type": "execute_result"
    },
    {
     "data": {
      "image/png": "[encoded data removed]",
      "text/plain": [
       "<Figure size 640x480 with 1 Axes>"
      ]
     },
     "metadata": {},
     "output_type": "display_data"
    }
   ],
   "source": [
    "# 🔒This cell is locked. You will not be able to edit it.\n",
    "\n",
    "# create a SCORE boxplot for each price level\n",
    "sns.boxplot(data=score_by_price_level_df, x=\"price_level\", y=\"SCORE\")\n",
    "plt.title(\"Health Inspection Scores by Price Level\")"
   ]
  },
  {
   "cell_type": "markdown",
   "metadata": {},
   "source": [
    "<a id=\"ex8\"></a>\n",
    "\n",
    "#### Exercise 8: Success Rates by Inspection Type\n",
    "Your restaurant clients want to know which types of inspections they're most likely to fail, so they can better prepare. By analyzing success rates across different inspection types and programs, you'll help them focus their preparation efforts where they matter most.\n",
    "\n",
    "<div style=\"background-color: #C6E2FF; padding: 10px; border-radius: 3px; box-shadow: 0 2px 4px rgba(0, 0, 0, 0.1); width:95%\n",
    "\">\n",
    "\n",
    "**▶▶▶ Directions**\n",
    "1. Write a SQLite query that:\n",
    "\n",
    "    - Selects the inspection type.\n",
    "    - Counts the total number of inspections for each inspection type as \"total_inspections\".\n",
    "    - Calculates the pass rate as a **percentage** (percentage of inspections with score ≤ 13) as  \"pass_rate\".\n",
    "    - Calculates the average score for each inspection type as \"avg_score\".\n",
    "    - Only includes records where the score is not null.\n",
    "    - Groups the results by inspection type.\n",
    "    - Orders the results by pass rate in descending order (highest pass rates first).\n",
    "</div>"
   ]
  },
  {
   "cell_type": "markdown",
   "metadata": {},
   "source": [
    "<details>\n",
    "<summary style=\"background-color: #FDBFC7; padding: 10px; border-radius: 3px; box-shadow: 0 2px 4px rgba(0, 0, 0, 0.1); width: 95%; text-align: left; cursor: pointer; font-weight: bold;\">\n",
    "If you are stuck, click here for extra hints!</summary> \n",
    "\n",
    "<ul style=\"background-color: #FFF8F8; padding: 10px; border-radius: 3px; margin-top: 5px; width: 95%; box-shadow: inset 0 2px 4px rgba(0, 0, 0, 0.1);\">\n",
    "   \n",
    "- To count the total number of restaurants, use the `COUNT()` statement. Don't forget to add the alias .\n",
    "- You can use a `AVG(CASE WHEN ... THEN ... ELSE ... END)` expression get the rate of restaurants that passed the first inspection. Don't forget to multiply by 100 to get a percentage!\n",
    "\n",
    "    Inside the sum function, you want to have the value 1 if the score is <=13, and 0 otherwise\n",
    "- For the average score, you can use the `AVG()` function.\n",
    "- To filter rows with an assigned score, you can use the `WHERE` statement. You are advised to use `NOT NULL` in the comparison\n",
    "- To segment by `INSPECTION_TYPE`, you can use the `GROUP BY` statement.\n",
    "- To sort the results, use the `ORDER BY` statement, and indicate how you want the order, ASC or DESC.\n",
    "</ul>\n",
    "\n",
    "</details>"
   ]
  },
  {
   "cell_type": "code",
   "execution_count": 35,
   "metadata": {
    "deletable": false,
    "tags": [
     "graded"
    ]
   },
   "outputs": [],
   "source": [
    "# GRADED CELL: Exercise 8\n",
    "\n",
    "### START CODE HERE ###\n",
    "\n",
    "# write the query for the problem\n",
    "query_success_rate = \"\"\"\n",
    "SELECT inspections.INSPECTION_TYPE, \n",
    "       COUNT(*) as total_inspections, \n",
    "       AVG(CASE WHEN SCORE <= 13 THEN 1 ELSE 0 END) * 100 as pass_rate, \n",
    "       AVG(SCORE) as avg_score \n",
    "FROM inspections \n",
    "WHERE SCORE IS NOT NULL \n",
    "GROUP BY INSPECTION_TYPE \n",
    "ORDER BY pass_rate DESC\n",
    "\"\"\"\n",
    "### END CODE HERE ###\n",
    "\n",
    "success_rate_df = pd.read_sql_query(query_success_rate, connection)"
   ]
  },
  {
   "cell_type": "code",
   "execution_count": 36,
   "metadata": {
    "deletable": false,
    "editable": false
   },
   "outputs": [
    {
     "data": {
      "text/html": [
       "<div>\n",
       "<style scoped>\n",
       "    .dataframe tbody tr th:only-of-type {\n",
       "        vertical-align: middle;\n",
       "    }\n",
       "\n",
       "    .dataframe tbody tr th {\n",
       "        vertical-align: top;\n",
       "    }\n",
       "\n",
       "    .dataframe thead th {\n",
       "        text-align: right;\n",
       "    }\n",
       "</style>\n",
       "<table border=\"1\" class=\"dataframe\">\n",
       "  <thead>\n",
       "    <tr style=\"text-align: right;\">\n",
       "      <th></th>\n",
       "      <th>INSPECTION_TYPE</th>\n",
       "      <th>total_inspections</th>\n",
       "      <th>pass_rate</th>\n",
       "      <th>avg_score</th>\n",
       "    </tr>\n",
       "  </thead>\n",
       "  <tbody>\n",
       "    <tr>\n",
       "      <th>0</th>\n",
       "      <td>Reopening Inspection</td>\n",
       "      <td>736</td>\n",
       "      <td>58.152174</td>\n",
       "      <td>16.722826</td>\n",
       "    </tr>\n",
       "    <tr>\n",
       "      <th>1</th>\n",
       "      <td>Re-inspection</td>\n",
       "      <td>13456</td>\n",
       "      <td>37.225030</td>\n",
       "      <td>27.152125</td>\n",
       "    </tr>\n",
       "    <tr>\n",
       "      <th>2</th>\n",
       "      <td>Initial Inspection</td>\n",
       "      <td>33171</td>\n",
       "      <td>34.237738</td>\n",
       "      <td>27.753037</td>\n",
       "    </tr>\n",
       "    <tr>\n",
       "      <th>3</th>\n",
       "      <td>Second Compliance Inspection</td>\n",
       "      <td>54</td>\n",
       "      <td>29.629630</td>\n",
       "      <td>30.648148</td>\n",
       "    </tr>\n",
       "    <tr>\n",
       "      <th>4</th>\n",
       "      <td>Compliance Inspection</td>\n",
       "      <td>643</td>\n",
       "      <td>17.729393</td>\n",
       "      <td>35.023328</td>\n",
       "    </tr>\n",
       "  </tbody>\n",
       "</table>\n",
       "</div>"
      ],
      "text/plain": [
       "                INSPECTION_TYPE  total_inspections  pass_rate  avg_score\n",
       "0          Reopening Inspection                736  58.152174  16.722826\n",
       "1                 Re-inspection              13456  37.225030  27.152125\n",
       "2            Initial Inspection              33171  34.237738  27.753037\n",
       "3  Second Compliance Inspection                 54  29.629630  30.648148\n",
       "4         Compliance Inspection                643  17.729393  35.023328"
      ]
     },
     "execution_count": 36,
     "metadata": {},
     "output_type": "execute_result"
    }
   ],
   "source": [
    "success_rate_df.head()"
   ]
  },
  {
   "cell_type": "markdown",
   "metadata": {},
   "source": [
    "<details>\n",
    "<summary style=\"background-color: #c6e2ff6c; padding: 10px; border-radius: 3px; box-shadow: 0 2px 4px rgba(0, 0, 0, 0.01); width: 95%; text-align: left; cursor: pointer; font-weight: bold;\">\n",
    "Expected output:</summary> \n",
    "\n",
    "<br>\n",
    "\n",
    "<img src=\"imgs/ex8.png\" width=\"500\">\n",
    "</details>"
   ]
  },
  {
   "cell_type": "code",
   "execution_count": 37,
   "metadata": {
    "deletable": false,
    "editable": false
   },
   "outputs": [
    {
     "data": {
      "image/png": "[encoded data removed]",
      "text/plain": [
       "<Figure size 800x500 with 1 Axes>"
      ]
     },
     "metadata": {},
     "output_type": "display_data"
    }
   ],
   "source": [
    "# 🔒This cell is locked. You will not be able to edit it.\n",
    "\n",
    "plt.figure(figsize=(8, 5))\n",
    "sns.barplot(data=success_rate_df, x=\"INSPECTION_TYPE\", y=\"pass_rate\")\n",
    "plt.xticks(rotation=45, ha=\"right\")\n",
    "plt.title(\"Pass Rate by Inspection Type\")\n",
    "plt.tight_layout()"
   ]
  },
  {
   "cell_type": "markdown",
   "metadata": {},
   "source": [
    "Finally, don't forget to close the connection!"
   ]
  },
  {
   "cell_type": "code",
   "execution_count": 38,
   "metadata": {
    "deletable": false,
    "editable": false,
    "tags": [
     "graded"
    ]
   },
   "outputs": [],
   "source": [
    "# 🔒This cell is locked. You will not be able to edit it.\n",
    "\n",
    "connection.close()"
   ]
  },
  {
   "cell_type": "markdown",
   "metadata": {},
   "source": [
    "Congratulations on finishing this course's capstone! If everything is running correctly, you can go ahead and submit your code for grading."
   ]
  }
 ],
 "metadata": {
  "grader_version": "2",
  "kernelspec": {
   "display_name": "Python 3 (ipykernel)",
   "language": "python",
   "name": "python3"
  },
  "language_info": {
   "codemirror_mode": {
    "name": "ipython",
    "version": 3
   },
   "file_extension": ".py",
   "mimetype": "text/x-python",
   "name": "python",
   "nbconvert_exporter": "python",
   "pygments_lexer": "ipython3",
   "version": "3.11.6"
  }
 },
 "nbformat": 4,
 "nbformat_minor": 4
}
